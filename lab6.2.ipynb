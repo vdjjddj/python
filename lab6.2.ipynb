{
 "cells": [
  {
   "cell_type": "code",
   "execution_count": 13,
   "metadata": {},
   "outputs": [
    {
     "name": "stdout",
     "output_type": "stream",
     "text": [
      "คะแนนรวม : 50\n"
     ]
    }
   ],
   "source": [
    "def total(kab,jid,jod):\n",
    "    Total = kab + jid + jod \n",
    "    return Total\n",
    "\n",
    "def get_vaild_score(prompt, max_score):\n",
    "    while True:\n",
    "     score = int(input(prompt))\n",
    "     if score <= max_score:\n",
    "        return score\n",
    "     else:\n",
    "        print(f\"คะแนนไม่เกิน {max_score}\")\n",
    "    \n",
    "\n",
    "kab = get_vaild_score(\"คะแนนเก็บ : \",20)\n",
    "jid = get_vaild_score(\"คะแนนจิตพิจัย : \",10)\n",
    "jod = get_vaild_score(\"ตะแนนกลางภาค : \",20)\n",
    "\n",
    "total_score = total(kab, jid, jod)\n",
    "\n",
    "print(f\"คะแนนรวม : {total_score}\")\n",
    "\n"
   ]
  }
 ],
 "metadata": {
  "kernelspec": {
   "display_name": "Python 3",
   "language": "python",
   "name": "python3"
  },
  "language_info": {
   "codemirror_mode": {
    "name": "ipython",
    "version": 3
   },
   "file_extension": ".py",
   "mimetype": "text/x-python",
   "name": "python",
   "nbconvert_exporter": "python",
   "pygments_lexer": "ipython3",
   "version": "3.12.3"
  }
 },
 "nbformat": 4,
 "nbformat_minor": 2
}
